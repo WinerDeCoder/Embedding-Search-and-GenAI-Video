{
 "cells": [
  {
   "cell_type": "code",
   "execution_count": 1,
   "metadata": {},
   "outputs": [],
   "source": [
    "import sys\n",
    "import os\n",
    "\n",
    "parent_path = os.path.abspath(\"..\")  # Get absolute path of parent directory\n",
    "if parent_path not in sys.path:  \n",
    "    sys.path.append(parent_path)  # Add only if it's not already there\n",
    "    \n",
    "from dotenv import load_dotenv\n",
    "load_dotenv(\"../.env\")\n",
    "\n",
    "\n",
    "import pandas as pd\n",
    "import chromadb\n",
    "import openai\n",
    "\n",
    "from src.models.chromadb_get_collection import *  \n",
    "from src.models.embedding import *  "
   ]
  },
  {
   "cell_type": "markdown",
   "metadata": {},
   "source": [
    "### Read Excel file "
   ]
  },
  {
   "cell_type": "code",
   "execution_count": null,
   "metadata": {},
   "outputs": [
    {
     "name": "stdout",
     "output_type": "stream",
     "text": [
      "   no                    base_question                 answer  \\\n",
      "0   1   Tại sao cần bón phân cho cây ?        Để cây tươi tốt   \n",
      "1   2  Cây nhãn chăm sóc như thế nào ?  Bón phân thường xuyên   \n",
      "\n",
      "                                    variant_question  \n",
      "0  Lí do cần bón phân cho cây \\nTại sao cây cần p...  \n",
      "1  Chăm sóc cây nhãn ra sao ?\\nLàm sao chăm sóc c...  \n",
      "Excel Length:  2\n"
     ]
    }
   ],
   "source": [
    "question_answer_df = pd.read_excel(\"../data/question_answer/QA.xlsx\")\n",
    "\n",
    "print(question_answer_df)\n",
    "\n",
    "print(\"Excel Length: \", len(question_answer_df))"
   ]
  },
  {
   "cell_type": "markdown",
   "metadata": {},
   "source": [
    "### Get ChromaDB Collection"
   ]
  },
  {
   "cell_type": "code",
   "execution_count": 3,
   "metadata": {},
   "outputs": [],
   "source": [
    "collection_path     = \"../data/vector_database\"\n",
    "collection_name     = os.getenv(\"CHROMADB_COLLECTION_NAME\")\n",
    "embedding_func      = define_embedding_function( api_key = os.getenv(\"OPENAI_API_KEY\"), model_name = os.getenv(\"EMBEDDING_MODEL\"))\n",
    "similarity_method   = os.getenv(\"SIMILARITY_METHOD\")"
   ]
  },
  {
   "cell_type": "code",
   "execution_count": 4,
   "metadata": {},
   "outputs": [],
   "source": [
    "chromadb_collection = get_chroma_collection(collection_path, collection_name, embedding_func, similarity_method)"
   ]
  },
  {
   "cell_type": "markdown",
   "metadata": {},
   "source": [
    "### Load Questions into ChromaDB\n",
    "- With index in metadata and index for tracking"
   ]
  },
  {
   "cell_type": "code",
   "execution_count": 5,
   "metadata": {},
   "outputs": [],
   "source": [
    "list_base_question  = list(question_answer_df[\"base_question\"])\n",
    "list_question_no    = list(question_answer_df[\"no\"])"
   ]
  },
  {
   "cell_type": "code",
   "execution_count": 6,
   "metadata": {},
   "outputs": [],
   "source": [
    "chromadb_collection.add(\n",
    "    documents=list_base_question,\n",
    "    metadatas = [{\"video\": f\"{i}.mp4\"} for i in list_question_no],\n",
    "    ids = [str(i) for i in list_question_no]\n",
    ")"
   ]
  },
  {
   "cell_type": "markdown",
   "metadata": {},
   "source": [
    "### Update question in ChromaDB using index"
   ]
  },
  {
   "cell_type": "code",
   "execution_count": null,
   "metadata": {},
   "outputs": [],
   "source": [
    "chromadb_collection.update(\n",
    "    ids=[str(i) for i in list_question_no],\n",
    "    metadatas=[{\"video\": f\"{i}.mp4\"} for i in list_question_no]\n",
    ")"
   ]
  },
  {
   "cell_type": "markdown",
   "metadata": {},
   "source": [
    "### Query Similar Question in ChromaDB"
   ]
  },
  {
   "cell_type": "code",
   "execution_count": null,
   "metadata": {},
   "outputs": [],
   "source": [
    "results = chromadb_collection.query(\n",
    "    query_texts=[\"Làm sao để chăm sóc cây ăn trái?\"], # Chroma will embed this for you\n",
    "    n_results=1 # how many results to return\n",
    ")\n",
    "\n",
    "print(results)"
   ]
  }
 ],
 "metadata": {
  "kernelspec": {
   "display_name": "py310",
   "language": "python",
   "name": "python3"
  },
  "language_info": {
   "codemirror_mode": {
    "name": "ipython",
    "version": 3
   },
   "file_extension": ".py",
   "mimetype": "text/x-python",
   "name": "python",
   "nbconvert_exporter": "python",
   "pygments_lexer": "ipython3",
   "version": "3.10.16"
  }
 },
 "nbformat": 4,
 "nbformat_minor": 2
}
