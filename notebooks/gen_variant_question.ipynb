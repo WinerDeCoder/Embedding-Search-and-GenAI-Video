{
 "cells": [
  {
   "cell_type": "code",
   "execution_count": 1,
   "metadata": {},
   "outputs": [],
   "source": [
    "import sys\n",
    "import os\n",
    "\n",
    "parent_path = os.path.abspath(\"..\")  # Get absolute path of parent directory\n",
    "if parent_path not in sys.path:  \n",
    "    sys.path.append(parent_path)  # Add only if it's not already there\n",
    "    \n",
    "from dotenv import load_dotenv\n",
    "load_dotenv(\"../.env\")\n",
    "\n",
    "\n",
    "import pandas as pd\n",
    "import openai\n",
    "\n",
    "from src.models.gpt_models import generate_variant_question, wrong_word_modify"
   ]
  },
  {
   "cell_type": "markdown",
   "metadata": {},
   "source": [
    "### Read Excel file"
   ]
  },
  {
   "cell_type": "code",
   "execution_count": 2,
   "metadata": {},
   "outputs": [
    {
     "name": "stdout",
     "output_type": "stream",
     "text": [
      "   no                    base_question  Để cây tươi tốt  variant_question\n",
      "0   1   Tại sao cần bón phân cho cây ?              NaN               NaN\n",
      "1   2               Đạm Cà Mau ở đâu ?              NaN               NaN\n",
      "2   3  Cây nhãn chăm sóc như thế nào ?              NaN               NaN\n",
      "Excel Length:  3\n"
     ]
    }
   ],
   "source": [
    "question_answer_df = pd.read_excel(\"../data/question_answer/QA_test.xlsx\")\n",
    "\n",
    "print(question_answer_df)\n",
    "\n",
    "print(\"Excel Length: \", len(question_answer_df))"
   ]
  },
  {
   "cell_type": "markdown",
   "metadata": {},
   "source": [
    "### Loop over to get row"
   ]
  },
  {
   "cell_type": "code",
   "execution_count": 3,
   "metadata": {},
   "outputs": [
    {
     "name": "stdout",
     "output_type": "stream",
     "text": [
      "Đạm Cà Mau nằm ở đâu?\n",
      "Bạn có biết Đạm Cà Mau ở vị trí nào không?\n",
      "Địa chỉ của Đạm Cà Mau là gì?\n",
      "Cho tôi hỏi, Đạm Cà Mau tọa lạc ở đâu vậy?\n",
      "Đạm Cà Mau thì nằm ở khu vực nào?\n",
      "Hãy cho tôi biết vị trí của Đạm Cà Mau?\n",
      "Đạm Cà Mau đang ở chỗ nào?\n",
      "Cà Mau có đạm thì ở đâu nhỉ?\n",
      "Đạm Cà Mau được đặt tại đâu?\n",
      "Cụ thể Đạm Cà Mau ở Đâu vậy bạn?\n",
      "Mình muốn biết Đam Cà Mau nằm tai đâu\n",
      "Đam Cà Mau co địa diem ở chổ nào khong\n",
      "Cà Mau có đam ở ku vực nào vậy\n",
      "Điạ điểm của Đam Cà Mau là ở đâu\n",
      "Bạn có thể cho biết Đam Cà Mau vị trí là ở đâu khong\n",
      "Tại sao lại cần phải bón phân cho cây?\n",
      "Bón phân cho cây có ý nghĩa gì?\n",
      "Lý do nào khiến chúng ta cần bón phân cho cây trồng?\n",
      "Tại sao cây cần được bón phân?\n",
      "Có lý do gì để bón phân cho cây không?\n",
      "Tại sao việc bón phân cho cây lại quan trọng?\n",
      "Bón phân cho cây có tác dụng gì?\n",
      "Có cần phải bón phân cho cây hay không?\n",
      "Vì sao bón phân là cần thiết cho cây xanh?\n",
      "Tại sao phải cung cấp phân bón cho cây?\n",
      "Thế nào là lý dô cần bons phan cho cây\n",
      "Bón phan cho cây có lơi ích gì\n",
      "Bón phan cho cây trongt tại sao lại cần thiết\n",
      "Có phải bón phan là điêu cần làm cho cây khong\n",
      "Lơi ích của việc bón phan cho cây là gi\n",
      "Cách chăm sóc cây nhãn ra sao?\n",
      "Bạn chăm sóc cây nhãn bằng cách nào?\n",
      "Làm thế nào để chăm sóc cây nhãn tốt nhất?\n",
      "Chăm sóc cây nhãn thì cần lưu ý điều gì?\n",
      "Cần phải chăm sóc cây nhãn như thế nào?\n",
      "Chăm sóc cây nhãn phải thực hiện sao cho đúng?\n",
      "Có những cách nào để chăm sóc cây nhãn?\n",
      "Cây nhãn thì cần được chăm sóc như thế nào?\n",
      "Phương pháp chăm sóc cây nhãn là gì?\n",
      "Chăm sóc cây nhãn cần chú ý đến điều gì không?\n",
      "Những điều cần biết khi chăm sóc cây nhãn?\n",
      "Thao tác cham soc cay nhan dien ra the nao\n",
      "Minh nen cham soc cay nhan nhu the nao cho hieu qua\n",
      "Khi cham soc cay nhan, can lam gi\n",
      "Nhung bi quet cham soc cay nhan la gi\n",
      "Cay nhan can duoc cham soc ra sao de phat trien tot\n"
     ]
    }
   ],
   "source": [
    "import concurrent.futures\n",
    "\n",
    "# Wrapper function for parallel processing\n",
    "def process_row(index, row):\n",
    "    init_quest_list = generate_variant_question(row[\"base_question\"])\n",
    "    \n",
    "    wrong_spelling_quest = wrong_word_modify(str(\"\\n\".join(init_quest_list.quest_list[-5:])))\n",
    "\n",
    "    final_list = str(\"\\n\".join(init_quest_list.quest_list[:-5])) + \"\\n\" +  str(\"\\n\".join(wrong_spelling_quest.quest_list))\n",
    "    \n",
    "    print(final_list)\n",
    "    \n",
    "    return index, final_list\n",
    "\n",
    "# Run in parallel with ThreadPoolExecutor\n",
    "with concurrent.futures.ThreadPoolExecutor(max_workers=2) as executor:  # Adjust workers as needed\n",
    "    futures = {executor.submit(process_row, idx, row): idx for idx, row in question_answer_df.iterrows()}\n",
    "    for future in concurrent.futures.as_completed(futures):\n",
    "        idx, variant = future.result()\n",
    "        #print(variant, type(variant))\n",
    "        question_answer_df[\"variant_question\"] = question_answer_df[\"variant_question\"].astype(str)\n",
    "        question_answer_df.at[idx, \"variant_question\"] = variant\n",
    "\n",
    "# Save the updated DataFrame to a new Excel file\n",
    "question_answer_df.to_excel(\"../data/question_answer/updated_file.xlsx\", index=False)"
   ]
  },
  {
   "cell_type": "code",
   "execution_count": null,
   "metadata": {},
   "outputs": [],
   "source": []
  }
 ],
 "metadata": {
  "kernelspec": {
   "display_name": "py310",
   "language": "python",
   "name": "python3"
  },
  "language_info": {
   "codemirror_mode": {
    "name": "ipython",
    "version": 3
   },
   "file_extension": ".py",
   "mimetype": "text/x-python",
   "name": "python",
   "nbconvert_exporter": "python",
   "pygments_lexer": "ipython3",
   "version": "3.10.16"
  }
 },
 "nbformat": 4,
 "nbformat_minor": 2
}
