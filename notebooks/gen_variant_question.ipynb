{
 "cells": [
  {
   "cell_type": "code",
   "execution_count": 1,
   "metadata": {},
   "outputs": [],
   "source": [
    "import sys\n",
    "import os\n",
    "\n",
    "parent_path = os.path.abspath(\"..\")  # Get absolute path of parent directory\n",
    "if parent_path not in sys.path:  \n",
    "    sys.path.append(parent_path)  # Add only if it's not already there\n",
    "    \n",
    "from dotenv import load_dotenv\n",
    "load_dotenv(\"../.env\")\n",
    "\n",
    "\n",
    "import pandas as pd\n",
    "import openai\n",
    "\n",
    "from src.models.gpt_models import generate_variant_question"
   ]
  },
  {
   "cell_type": "markdown",
   "metadata": {},
   "source": [
    "### Read Excel file"
   ]
  },
  {
   "cell_type": "code",
   "execution_count": 2,
   "metadata": {},
   "outputs": [
    {
     "name": "stdout",
     "output_type": "stream",
     "text": [
      "   no                    base_question  Để cây tươi tốt  variant_question\n",
      "0   1   Tại sao cần bón phân cho cây ?              NaN               NaN\n",
      "1   2               Đạm Cà Mau ở đâu ?              NaN               NaN\n",
      "2   3  Cây nhãn chăm sóc như thế nào ?              NaN               NaN\n",
      "Excel Length:  3\n"
     ]
    }
   ],
   "source": [
    "question_answer_df = pd.read_excel(\"../data/question_answer/QA_test.xlsx\")\n",
    "\n",
    "print(question_answer_df)\n",
    "\n",
    "print(\"Excel Length: \", len(question_answer_df))"
   ]
  },
  {
   "cell_type": "markdown",
   "metadata": {},
   "source": [
    "### Loop over to get row"
   ]
  },
  {
   "cell_type": "code",
   "execution_count": 3,
   "metadata": {},
   "outputs": [],
   "source": [
    "import concurrent.futures\n",
    "\n",
    "# Wrapper function for parallel processing\n",
    "def process_row(index, row):\n",
    "    return index, generate_variant_question(row[\"base_question\"])\n",
    "\n",
    "# Run in parallel with ThreadPoolExecutor\n",
    "with concurrent.futures.ThreadPoolExecutor(max_workers=2) as executor:  # Adjust workers as needed\n",
    "    futures = {executor.submit(process_row, idx, row): idx for idx, row in question_answer_df.iterrows()}\n",
    "    for future in concurrent.futures.as_completed(futures):\n",
    "        idx, variant = future.result()\n",
    "        #print(variant, type(variant))\n",
    "        question_answer_df[\"variant_question\"] = question_answer_df[\"variant_question\"].astype(str)\n",
    "        question_answer_df.at[idx, \"variant_question\"] = str(\"\\n\".join(variant.quest_list))\n",
    "\n",
    "# Save the updated DataFrame to a new Excel file\n",
    "question_answer_df.to_excel(\"../data/question_answer/updated_file.xlsx\", index=False)"
   ]
  },
  {
   "cell_type": "code",
   "execution_count": null,
   "metadata": {},
   "outputs": [],
   "source": []
  }
 ],
 "metadata": {
  "kernelspec": {
   "display_name": "py310",
   "language": "python",
   "name": "python3"
  },
  "language_info": {
   "codemirror_mode": {
    "name": "ipython",
    "version": 3
   },
   "file_extension": ".py",
   "mimetype": "text/x-python",
   "name": "python",
   "nbconvert_exporter": "python",
   "pygments_lexer": "ipython3",
   "version": "3.10.16"
  }
 },
 "nbformat": 4,
 "nbformat_minor": 2
}
