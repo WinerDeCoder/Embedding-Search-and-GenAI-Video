{
 "cells": [
  {
   "cell_type": "code",
   "execution_count": 66,
   "metadata": {},
   "outputs": [],
   "source": [
    "import json\n",
    "import pandas\n",
    "import requests\n",
    "import csv\n",
    "import time"
   ]
  },
  {
   "cell_type": "code",
   "execution_count": 62,
   "metadata": {},
   "outputs": [
    {
     "name": "stdout",
     "output_type": "stream",
     "text": [
      "Row 0:\n",
      "{'STT': 1, 'Text': 'Xin chào bà con, tôi là Anh Hai Cà Mau'}\n",
      "{\"error\": null, \"data\": {\"video_id\": \"f3733b8c2956416ca857d5ef1ae40387\"}}\n",
      "f3733b8c2956416ca857d5ef1ae40387\n",
      "Row 1:\n",
      "{'STT': 2, 'Text': 'Tôi có thể giúp gì cho bà con'}\n",
      "{\"error\": null, \"data\": {\"video_id\": \"9d6feabb798f4b87a4d949437cf84bc8\"}}\n",
      "9d6feabb798f4b87a4d949437cf84bc8\n",
      "Row 2:\n",
      "{'STT': 3, 'Text': 'Cách bón phân ô em cà mau green cho cây lương thực'}\n",
      "{\"error\": null, \"data\": {\"video_id\": \"abc76acf2250465bb216d9c1cbd7250b\"}}\n",
      "abc76acf2250465bb216d9c1cbd7250b\n",
      "Row 3:\n",
      "{'STT': 4, 'Text': 'Anh Hai Cà Mau xin đưa ra hướng dẫn sử dụng cho dòng phân bón'}\n",
      "{\"error\": null, \"data\": {\"video_id\": \"a5e552adf6104e189713e950163a438b\"}}\n",
      "a5e552adf6104e189713e950163a438b\n",
      "Row 4:\n",
      "{'STT': 5, 'Text': 'Whao, chúc mừng bạn đã may mắn trúng được giải thưởng vàng'}\n",
      "{\"error\": null, \"data\": {\"video_id\": \"9b4052bbdac84582b467fb8fa80e876c\"}}\n",
      "9b4052bbdac84582b467fb8fa80e876c\n"
     ]
    }
   ],
   "source": [
    "import pandas as pd\n",
    "\n",
    "# Đường dẫn đến file .xlsx\n",
    "file_path = \"/home/phucnguyen/code/AHCM/HeyGen/data/small_number_questions.xlsx\"\n",
    "\n",
    "# Đọc file Excel vào DataFrame\n",
    "df = pd.read_excel(file_path)\n",
    "\n",
    "video_id_list = []\n",
    "\n",
    "error_video = []\n",
    "\n",
    "# Duyệt từng dòng trong DataFrame\n",
    "for index, row in df.iterrows():\n",
    "    try:\n",
    "        print(f\"Row {index}:\")\n",
    "        \n",
    "        item_dict = row.to_dict()\n",
    "        print(row.to_dict())  # Chuyển dòng thành dictionary để dễ xử lý\n",
    "        \n",
    "        url = \"https://api.heygen.com/v2/video/generate\"\n",
    "\n",
    "        payload = {\n",
    "            \"caption\": False,  # Caption, maybe the subtile\n",
    "            \"title\": str(item_dict[\"STT\"]),  # Need to change , match the index of video\n",
    "            \"callback_id\": \"string\",\n",
    "            \"dimension\": {\n",
    "                \"width\": 1024,  # Fix\n",
    "                \"height\": 720  # fix\n",
    "            },\n",
    "            \"video_inputs\": [      # up to 50, don't know whether it is video setting or many video at a time\n",
    "                {\n",
    "                    \"character\": {   # need to change to match  the avatar create\n",
    "                        \"type\": \"talking_photo\",  # avatar (already) / talking_photo ( for custome photo)\n",
    "                        \"talking_photo_id\": \"fb3e19a8f9014884a40ee3b0ebf69c04\",   # !!!!! extract\n",
    "                        \"scale\": 1,\n",
    "                        \"offset\": {\n",
    "                            \"x\": 0,\n",
    "                            \"y\": 0\n",
    "                        }\n",
    "                    },\n",
    "                    \"voice\": {\n",
    "                        \"type\": \"text\",\n",
    "                        \"voice_id\": \"c6fb81520dcd42e0a02be231046a8639\", #str\n",
    "                        \"input_text\": item_dict[\"Text\"] #str\n",
    "                    },   # voice id Fixx\n",
    "                }\n",
    "            ],\n",
    "            \"callback_url\": \"string\"\n",
    "        }\n",
    "        headers = {\n",
    "            \"accept\": \"application/json\",\n",
    "            \"content-type\": \"application/json\",\n",
    "            \"x-api-key\": \"NWQ1ZGJhYjY5MGY0NGNmZDk1OWU0ZWUxNDU3YzY2YzYtMTcyNjIxNTM4Mg==\"\n",
    "        }\n",
    "\n",
    "        response = requests.post(url, json=payload, headers=headers)\n",
    "\n",
    "        print(response.text)\n",
    "        \n",
    "        covert_to_json =  json.loads(response.text)\n",
    "        \n",
    "        video_id = covert_to_json[\"data\"][\"video_id\"]\n",
    "        \n",
    "        video_id_list +=  [{\"STT\": item_dict[\"STT\"], \"video_id\": video_id}]\n",
    "        \n",
    "        print(video_id)\n",
    "        \n",
    "        \n",
    "            \n",
    "    except Exception as e:\n",
    "        print(f\"Error processing row {index}: {e}\")\n",
    "        error_video += [{\"STT\": item_dict[\"STT\"], \"error\": e}] \n",
    "\n",
    "if error_video:\n",
    "    print(\"The following videos encountered errors and were not processed:\")\n",
    "    print(error_video)\n",
    "        \n",
    "        \n"
   ]
  },
  {
   "cell_type": "code",
   "execution_count": 70,
   "metadata": {},
   "outputs": [
    {
     "name": "stdout",
     "output_type": "stream",
     "text": [
      "[{'STT': 1, 'video_id': 'f3733b8c2956416ca857d5ef1ae40387'}, {'STT': 2, 'video_id': '9d6feabb798f4b87a4d949437cf84bc8'}, {'STT': 3, 'video_id': 'abc76acf2250465bb216d9c1cbd7250b'}, {'STT': 4, 'video_id': 'a5e552adf6104e189713e950163a438b'}, {'STT': 5, 'video_id': '9b4052bbdac84582b467fb8fa80e876c'}]\n"
     ]
    }
   ],
   "source": [
    "print(video_id_list)"
   ]
  },
  {
   "cell_type": "code",
   "execution_count": 72,
   "metadata": {},
   "outputs": [
    {
     "name": "stdout",
     "output_type": "stream",
     "text": [
      "tơi day chua <Response [200]>\n",
      "{'code': 100, 'data': {'callback_id': 'string', 'caption_url': '', 'created_at': 1733908619, 'duration': 4.25075, 'error': None, 'gif_url': 'https://resource2.heygen.ai/video/gifs/f3733b8c2956416ca857d5ef1ae40387.gif', 'id': 'f3733b8c2956416ca857d5ef1ae40387', 'status': 'completed', 'thumbnail_url': 'https://files2.heygen.ai/aws_pacific/avatar_tmp/5d5dbab690f44cfd959e4ee1457c66c6/f3733b8c2956416ca857d5ef1ae40387.jpeg?Expires=1734515334&Signature=NzkfLCPmkXhiAvPvrxt0AhgZF19dH~4EIKnQBHnLdEbO4ASne721poYZ1RP5f8aOUvTLmkuSoNfHt4AE0kj92hD5JSoOPq-J1bJHIFXidCzoLon6hjaNw8qHCbaJMSuPLe7k9wo6mQArL9z1-xQOawtZF8g53Vy2BXb5bIqgbza4zFtAef9kRMO7pCOkuMucDSIXHeaidC3~C95-jUs6vWbOtRPEj5eF90-QO9qFMvPXGZrxWOh~VJen9KnFpABrrhwBndqUj2c930C8jsXrYRMNvccSZJ3IVWDa6~s0dRisGlhBwC-Jdu85WVG8Bz3YFzrGwMZyThK~B4-cJoFJvw__&Key-Pair-Id=K38HBHX5LX3X2H', 'video_url': 'https://files2.heygen.ai/aws_pacific/avatar_tmp/5d5dbab690f44cfd959e4ee1457c66c6/f3733b8c2956416ca857d5ef1ae40387.mp4?Expires=1734515334&Signature=MX2rWMbKAzQzoTuysK80JsYM1ZTfA~aKKMG8TGyORU041WyRyXNAvk1Kj747LvAQHSCTgFzt83XYS1lTYoJOIC7RTYdobB1B7lX7GaGwR9k-6NrgWrpmLwkLJYM6LXu1M3gQaIEYf2rtoeNnCutOajuqZCM-4el7FS7I7qrRrOzQ9dj14f6kdSYfG~WoFtv7-lPoBe4FYM7gPE1JR7dtt7QNZfy-JdhuMQB9A5vtr4Wq9IvyHY3hSrtXk2FLmvPU-F~lqMPKwWCTM1SKcGDPa0E6sA~KKiFrW4tMDD~x-j8fyIWm4owM7~U883xDrdEQs-vU07HrcsI8LeDsR-Tm4w__&Key-Pair-Id=K38HBHX5LX3X2H', 'video_url_caption': None}, 'message': 'Success'}\n",
      "https://files2.heygen.ai/aws_pacific/avatar_tmp/5d5dbab690f44cfd959e4ee1457c66c6/f3733b8c2956416ca857d5ef1ae40387.mp4?Expires=1734515334&Signature=MX2rWMbKAzQzoTuysK80JsYM1ZTfA~aKKMG8TGyORU041WyRyXNAvk1Kj747LvAQHSCTgFzt83XYS1lTYoJOIC7RTYdobB1B7lX7GaGwR9k-6NrgWrpmLwkLJYM6LXu1M3gQaIEYf2rtoeNnCutOajuqZCM-4el7FS7I7qrRrOzQ9dj14f6kdSYfG~WoFtv7-lPoBe4FYM7gPE1JR7dtt7QNZfy-JdhuMQB9A5vtr4Wq9IvyHY3hSrtXk2FLmvPU-F~lqMPKwWCTM1SKcGDPa0E6sA~KKiFrW4tMDD~x-j8fyIWm4owM7~U883xDrdEQs-vU07HrcsI8LeDsR-Tm4w__&Key-Pair-Id=K38HBHX5LX3X2H\n",
      "Video downloaded successfully!\n",
      "tơi day chua <Response [200]>\n",
      "{'code': 100, 'data': {'callback_id': 'string', 'caption_url': '', 'created_at': 1733908619, 'duration': 3.30075, 'error': None, 'gif_url': 'https://resource2.heygen.ai/video/gifs/9d6feabb798f4b87a4d949437cf84bc8.gif', 'id': '9d6feabb798f4b87a4d949437cf84bc8', 'status': 'completed', 'thumbnail_url': 'https://files2.heygen.ai/aws_pacific/avatar_tmp/5d5dbab690f44cfd959e4ee1457c66c6/9d6feabb798f4b87a4d949437cf84bc8.jpeg?Expires=1734515335&Signature=WFpxrZjGpOG6i6ivkhvSWosWXOV5-gHCCcGqRsLv4uFD0xYX2k-FFXnhc-HRs1wASTfXPTEOjWxd7r3Zjf5O4f-JeglVXvhumB0bMDQdqvkyN1L8QD69aDB9ysP~bzI9PY8zVaZDTbc~qH5g6Z3FSMHE3Aud-Vb6OyfnhDzkww4fPba-T8KW-VPJLr8O~GsaSS6aGdyzpP1Qp7C95CWpptK0Z291KMGHPY7s1mVuReRys0XvnFjV4ypUkW8PoFI5Vj5oqY10qnif2PfcFCmhFXhu8GrJ1z2CGYi5cOjfy8R0IQgCWZAEuKFeU4Qu-JusxdUwG0vzg2JLRVMnNxFpig__&Key-Pair-Id=K38HBHX5LX3X2H', 'video_url': 'https://files2.heygen.ai/aws_pacific/avatar_tmp/5d5dbab690f44cfd959e4ee1457c66c6/9d6feabb798f4b87a4d949437cf84bc8.mp4?Expires=1734515335&Signature=SG6V~llVl2XVQunXYz29LwqGOxov95d5dYETcmFYPTfyEcdIwXahbawKkOoMxM1IfDEwCSpJSt9wHIvMhjUWOIcCUknbVrIIgT-ctErM3IsTxmMz~DAtwvwSYkI6l5vc1RmTJi9Esqs~welsYTf2adPJMW1FQdQLPUT~3AAwV~yQ0f0JEE1RO1NzATsyy-m-G3rUT81jWSZU9GSF~3T5eef~GyDPwbuFmCuCJiL21srcrn3MtXexHRd1UTxtbsh3fCJqNfv9ip52JuxZ9lbmJ9cbVbnC8c7t2HYz5uXC2XDoV1-W-B9blKSE3zEziRoPORZM38-DlhNf~SYtn26~7w__&Key-Pair-Id=K38HBHX5LX3X2H', 'video_url_caption': None}, 'message': 'Success'}\n",
      "https://files2.heygen.ai/aws_pacific/avatar_tmp/5d5dbab690f44cfd959e4ee1457c66c6/9d6feabb798f4b87a4d949437cf84bc8.mp4?Expires=1734515335&Signature=SG6V~llVl2XVQunXYz29LwqGOxov95d5dYETcmFYPTfyEcdIwXahbawKkOoMxM1IfDEwCSpJSt9wHIvMhjUWOIcCUknbVrIIgT-ctErM3IsTxmMz~DAtwvwSYkI6l5vc1RmTJi9Esqs~welsYTf2adPJMW1FQdQLPUT~3AAwV~yQ0f0JEE1RO1NzATsyy-m-G3rUT81jWSZU9GSF~3T5eef~GyDPwbuFmCuCJiL21srcrn3MtXexHRd1UTxtbsh3fCJqNfv9ip52JuxZ9lbmJ9cbVbnC8c7t2HYz5uXC2XDoV1-W-B9blKSE3zEziRoPORZM38-DlhNf~SYtn26~7w__&Key-Pair-Id=K38HBHX5LX3X2H\n",
      "Video downloaded successfully!\n",
      "tơi day chua <Response [200]>\n",
      "{'code': 100, 'data': {'callback_id': 'string', 'caption_url': '', 'created_at': 1733908620, 'duration': 4.40075, 'error': None, 'gif_url': 'https://resource2.heygen.ai/video/gifs/abc76acf2250465bb216d9c1cbd7250b.gif', 'id': 'abc76acf2250465bb216d9c1cbd7250b', 'status': 'completed', 'thumbnail_url': 'https://files2.heygen.ai/aws_pacific/avatar_tmp/5d5dbab690f44cfd959e4ee1457c66c6/abc76acf2250465bb216d9c1cbd7250b.jpeg?Expires=1734515337&Signature=JabSK4DVir9MHiohGzSD6I3OhwLf3uXOxOqnBc3mQl2w-5m5UsGg09RPYw9VAFMWRqeTp~RIeSBsaJPY89BGRK0WhsSa4E-3XjXOvmIsJ3kh3vBhj-0BLyRhYTZr~2iTTfd-yaicmK6St93smWAjV06r62DyKwye03wGqh07PJA8ObZ0GNdLcyhjXUtTuxkOuZMkP6or5Re7c6jH5a6p-EI1BuARq6P8XvgeFaT-h9BS~0NnoeLaL5ni3rFUCuFxxD9brfjYqw88PFadB-84Cmbpfa0MuCGG6V~bRJy-Yomn~L8RigHoAbK25-eNr~yabTO6JbzRzS3OPKZ4d7JImA__&Key-Pair-Id=K38HBHX5LX3X2H', 'video_url': 'https://files2.heygen.ai/aws_pacific/avatar_tmp/5d5dbab690f44cfd959e4ee1457c66c6/abc76acf2250465bb216d9c1cbd7250b.mp4?Expires=1734515337&Signature=EbXrnRVpibIgi9jNH~L1z3pmLQziU3iwvCQcDkTUWmv4txg4nCt~v~nhX5eUYY7iSjsv045w-fEJ1rOJRULEpFyIblUWQWSOvjW5sNET4~H7AXUEqLpjPhqzuFcclljQ-QEsgHwIw26Jf0jWkN0m7suQbcWN9y-hZ2cF2CIYgG0CRDn-ARdHTppdNHn5KT15OTlOJIt1ZuT2XZDBgfHeLltR6xywkCP2X~MFKnyYdoIpX2tZr0Dzi6LzGNOZIf~ZpVqblWwpk2hKpcEAuQhjUv6SzmC96hYyMYi-L~X073oNKpL~P6iRLODuCnmnCq5dsl6GefxN0iUWGJBmdWgL~w__&Key-Pair-Id=K38HBHX5LX3X2H', 'video_url_caption': None}, 'message': 'Success'}\n",
      "https://files2.heygen.ai/aws_pacific/avatar_tmp/5d5dbab690f44cfd959e4ee1457c66c6/abc76acf2250465bb216d9c1cbd7250b.mp4?Expires=1734515337&Signature=EbXrnRVpibIgi9jNH~L1z3pmLQziU3iwvCQcDkTUWmv4txg4nCt~v~nhX5eUYY7iSjsv045w-fEJ1rOJRULEpFyIblUWQWSOvjW5sNET4~H7AXUEqLpjPhqzuFcclljQ-QEsgHwIw26Jf0jWkN0m7suQbcWN9y-hZ2cF2CIYgG0CRDn-ARdHTppdNHn5KT15OTlOJIt1ZuT2XZDBgfHeLltR6xywkCP2X~MFKnyYdoIpX2tZr0Dzi6LzGNOZIf~ZpVqblWwpk2hKpcEAuQhjUv6SzmC96hYyMYi-L~X073oNKpL~P6iRLODuCnmnCq5dsl6GefxN0iUWGJBmdWgL~w__&Key-Pair-Id=K38HBHX5LX3X2H\n",
      "Video downloaded successfully!\n",
      "tơi day chua <Response [200]>\n",
      "{'code': 100, 'data': {'callback_id': 'string', 'caption_url': '', 'created_at': 1733908621, 'duration': 5.02575, 'error': None, 'gif_url': 'https://resource2.heygen.ai/video/gifs/a5e552adf6104e189713e950163a438b.gif', 'id': 'a5e552adf6104e189713e950163a438b', 'status': 'completed', 'thumbnail_url': 'https://files2.heygen.ai/aws_pacific/avatar_tmp/5d5dbab690f44cfd959e4ee1457c66c6/a5e552adf6104e189713e950163a438b.jpeg?Expires=1734515339&Signature=GS-Tf1heor7BkBBZIRokrz~t5uPo-f8qQvDA9YEYZ8360cSzlflBDeD4f9jPzkUSWlm9mytFHWtA5buFSoFM~bO0HbfG0WWPtUw2UfxwdxKFDlqy9A-IGIAtfq27L67~p7ET7GXq0~KlPcD62mRsgPA4qHANCrngBiqXWuJxE0sVAG~6WnO4mxX2OA1LqHp~Xt10PxKZAypB30fC3LW6ebzRQO8yIxzX4O8CcXAVgDQViAKKoP9Y5wKt0t6Pe4GHT8oAWWI4xkOukcSAHq9vDP1BTeomtd0DEiYg7GGAPZbrvxd-ZjpAi0~oXloJPBkOOgEKGsNZB1-tfyaT8oa~2Q__&Key-Pair-Id=K38HBHX5LX3X2H', 'video_url': 'https://files2.heygen.ai/aws_pacific/avatar_tmp/5d5dbab690f44cfd959e4ee1457c66c6/a5e552adf6104e189713e950163a438b.mp4?Expires=1734515339&Signature=mx3BLcicCfEjp48quHgpzt3zfAEqlXilZNjSYnd-nPHV-S24lIep4UqIxwXR8wS6dSsBQv~~VjbkEFxfndd6Q8tl-fUKrf4PiOkQO6SgtEuVbZ~Xhn9fSFqLZba3KDs9zTAnOOGJE6xK8EGz7gyUmSfzGwo7g1zYjQnqG-nyKuHrl7i7AuVx7dysQ8dWT4D8~nJqEM6mPn3U-gwrkaJT~UcLYEiFN0YoBF4DR-GJkrKot~TGsQ3mXXwOXaOleE14kcD9s0tuBxPHSjEf4m5ue6U1Ay9M85St7m56gFIYbrBZC8PpnYWPvj861P5pgASakLuVDBj2NT3Jbbfo9Zzxuw__&Key-Pair-Id=K38HBHX5LX3X2H', 'video_url_caption': None}, 'message': 'Success'}\n",
      "https://files2.heygen.ai/aws_pacific/avatar_tmp/5d5dbab690f44cfd959e4ee1457c66c6/a5e552adf6104e189713e950163a438b.mp4?Expires=1734515339&Signature=mx3BLcicCfEjp48quHgpzt3zfAEqlXilZNjSYnd-nPHV-S24lIep4UqIxwXR8wS6dSsBQv~~VjbkEFxfndd6Q8tl-fUKrf4PiOkQO6SgtEuVbZ~Xhn9fSFqLZba3KDs9zTAnOOGJE6xK8EGz7gyUmSfzGwo7g1zYjQnqG-nyKuHrl7i7AuVx7dysQ8dWT4D8~nJqEM6mPn3U-gwrkaJT~UcLYEiFN0YoBF4DR-GJkrKot~TGsQ3mXXwOXaOleE14kcD9s0tuBxPHSjEf4m5ue6U1Ay9M85St7m56gFIYbrBZC8PpnYWPvj861P5pgASakLuVDBj2NT3Jbbfo9Zzxuw__&Key-Pair-Id=K38HBHX5LX3X2H\n",
      "Video downloaded successfully!\n",
      "tơi day chua <Response [200]>\n",
      "{'code': 100, 'data': {'callback_id': 'string', 'caption_url': '', 'created_at': 1733908622, 'duration': 4.62575, 'error': None, 'gif_url': 'https://resource2.heygen.ai/video/gifs/9b4052bbdac84582b467fb8fa80e876c.gif', 'id': '9b4052bbdac84582b467fb8fa80e876c', 'status': 'completed', 'thumbnail_url': 'https://files2.heygen.ai/aws_pacific/avatar_tmp/5d5dbab690f44cfd959e4ee1457c66c6/9b4052bbdac84582b467fb8fa80e876c.jpeg?Expires=1734515341&Signature=hl~cxp1AvKdi-wagafpfujPPYXDsnfJ29t5LUpwoqoBKPVkTCJxaBw1yuw0lQ~Tfg5RTB1wPRpeESOp5gUb09w0S2y-ZX2YHAut-QSfV5E1lG~fU~Wkgra14vxZkoSmERucGWXzchjlshDmlJ9DS1Jd1dbZ~LGS27YB~p-HMvvcMOqWpOzGICH-zX75NAk043gNivFQmdgnrJilTI0QdNSg4O1siPoYcCEItlP3QG0z0-d9AdAyFKfjzMolrm5~xdVDr9k0LxUR-6Bx-hT3fF9xKiMPJiLcXrTbDlxGS6DYOASYOhBTrT2q9RrPlFWR49ygmctr302d1H-L8Ps3qBQ__&Key-Pair-Id=K38HBHX5LX3X2H', 'video_url': 'https://files2.heygen.ai/aws_pacific/avatar_tmp/5d5dbab690f44cfd959e4ee1457c66c6/9b4052bbdac84582b467fb8fa80e876c.mp4?Expires=1734515341&Signature=gWoYgGczin7CaO4ELMQIOOINSeQbNFabZ7vpSJt6QQ4ksapJyi1zu3tyJ6rhw-00Y51kpRmFUcYcFM4qKyojG6Fqurb9SoYKPj9d29cMk8WfZuQWmu1QbBNWK0wsTf5sr8uaN5gzd7R7dfbLypvwEjfjOvDn52i4MSBDbC1fBaVNChmGv~QxsovmTDJ8XAOO2IQ8stl1YJ6OhaIC7UNJ68Y9G6cGYz9hsTozqKAPKAFBxHkS74ggylJYP9OoCI6VcZWBAVD5BDYgEx2~9DYf4x5ydTHsvqWr4U5l-z7Xnm20Uxp3fEssQ217azucGToxlHRDwDPvv4HRMAXC75vWHA__&Key-Pair-Id=K38HBHX5LX3X2H', 'video_url_caption': None}, 'message': 'Success'}\n",
      "https://files2.heygen.ai/aws_pacific/avatar_tmp/5d5dbab690f44cfd959e4ee1457c66c6/9b4052bbdac84582b467fb8fa80e876c.mp4?Expires=1734515341&Signature=gWoYgGczin7CaO4ELMQIOOINSeQbNFabZ7vpSJt6QQ4ksapJyi1zu3tyJ6rhw-00Y51kpRmFUcYcFM4qKyojG6Fqurb9SoYKPj9d29cMk8WfZuQWmu1QbBNWK0wsTf5sr8uaN5gzd7R7dfbLypvwEjfjOvDn52i4MSBDbC1fBaVNChmGv~QxsovmTDJ8XAOO2IQ8stl1YJ6OhaIC7UNJ68Y9G6cGYz9hsTozqKAPKAFBxHkS74ggylJYP9OoCI6VcZWBAVD5BDYgEx2~9DYf4x5ydTHsvqWr4U5l-z7Xnm20Uxp3fEssQ217azucGToxlHRDwDPvv4HRMAXC75vWHA__&Key-Pair-Id=K38HBHX5LX3X2H\n",
      "Video downloaded successfully!\n"
     ]
    }
   ],
   "source": [
    "# nên kiểu mỗi 10p 1 lần, quét qua hết những video chưa tải về, nếu status đã success thì tải về, xong xóa khỏi list pending\n",
    "\n",
    "\n",
    "\n",
    "for item in video_id_list:\n",
    "    stt = item[\"STT\"]\n",
    "    video_id = item[\"video_id\"]\n",
    "    try:\n",
    "        url = f\"https://api.heygen.com/v1/video_status.get?video_id={video_id}\"\n",
    "\n",
    "        success = 0\n",
    "        time_count = 0\n",
    "\n",
    "        while success ==0 and time_count <= 240: # if wait more than 4 minutes\n",
    "            \n",
    "            headers = {\n",
    "                \"accept\": \"application/json\",\n",
    "                \"x-api-key\": \"NWQ1ZGJhYjY5MGY0NGNmZDk1OWU0ZWUxNDU3YzY2YzYtMTcyNjIxNTM4Mg==\"\n",
    "            }\n",
    "\n",
    "            process_response = requests.get(url, headers=headers)\n",
    "            print(\"tơi day chua\", process_response)\n",
    "            process_response_json = json.loads(process_response.text)\n",
    "            print(process_response_json)\n",
    "            if process_response_json[\"data\"][\"status\"] == \"completed\":\n",
    "                success = 1\n",
    "                \n",
    "                video_url = process_response_json[\"data\"][\"video_url\"]\n",
    "                \n",
    "                print(video_url)\n",
    "                \n",
    "                output_folder = \"downloads/\"\n",
    "                output_file = str(item_dict[\"STT\"]) + \".mp4\" # change to the name we want\n",
    "\n",
    "                # Tạo thư mục nếu chưa tồn tại\n",
    "                import os\n",
    "                os.makedirs(output_folder, exist_ok=True)\n",
    "\n",
    "                # Tải video\n",
    "                response = requests.get(video_url, stream=True)\n",
    "                if response.status_code == 200:\n",
    "                    with open(os.path.join(output_folder, output_file), \"wb\") as file:\n",
    "                        for chunk in response.iter_content(chunk_size=1024):  # Tải từng chunk\n",
    "                            file.write(chunk)\n",
    "                    print(\"Video downloaded successfully!\")\n",
    "                else:\n",
    "                    print(\"Failed to download video. Status code:\", response.status_code)\n",
    "            else: \n",
    "                time.sleep(10)\n",
    "                time_count += 10\n",
    "                \n",
    "        if success == 0:  # take out video that not process\n",
    "            error_video += {\"STT\": item_dict[\"STT\"], \"error\": \"Maximum Time Exceed\" }\n",
    "    except Exception as e:\n",
    "        print(f\"Error processing video {stt}: {e}\")\n",
    "        error_video += {\"STT\": stt, \"error\": e}"
   ]
  },
  {
   "cell_type": "code",
   "execution_count": null,
   "metadata": {},
   "outputs": [],
   "source": []
  },
  {
   "cell_type": "code",
   "execution_count": 69,
   "metadata": {},
   "outputs": [
    {
     "name": "stdout",
     "output_type": "stream",
     "text": [
      "Path to the file in 'b': /home/phucnguyen/code/AHCM/HeyGen/code/../data/small_number_questions.xlsx\n",
      "0 STT                                          1\n",
      "Text    Xin chào bà con, tôi là Anh Hai Cà Mau\n",
      "Name: 0, dtype: object\n",
      "1 STT                                 2\n",
      "Text    Tôi có thể giúp gì cho bà con\n",
      "Name: 1, dtype: object\n",
      "2 STT                                                     3\n",
      "Text    Cách bón phân ô em cà mau green cho cây lương ...\n",
      "Name: 2, dtype: object\n",
      "3 STT                                                     4\n",
      "Text    Anh Hai Cà Mau xin đưa ra hướng dẫn sử dụng ch...\n",
      "Name: 3, dtype: object\n",
      "4 STT                                                     5\n",
      "Text    Whao, chúc mừng bạn đã may mắn trúng được giải...\n",
      "Name: 4, dtype: object\n"
     ]
    }
   ],
   "source": [
    "import os\n",
    "\n",
    "# Get the current directory of the script\n",
    "#current_dir = os.path.dirname(os.path.abspath(__file__))\n",
    "current_dir = os.getcwd()\n",
    "\n",
    "# Navigate to folder `b` from folder `a`\n",
    "path_to_b = os.path.join(current_dir, \"../data\")\n",
    "\n",
    "# Example: Access a file in folder `b`\n",
    "file_in_b = os.path.join(path_to_b, \"small_number_questions.xlsx\")\n",
    "\n",
    "# Print the path\n",
    "print(f\"Path to the file in 'b': {file_in_b}\")\n",
    "\n",
    "# Check if the file exists\n",
    "if os.path.exists(file_in_b):\n",
    "    df = pd.read_excel(file_in_b)\n",
    "    for index, row in df.iterrows():\n",
    "        print(index, row)\n",
    "else:\n",
    "    print(\"File does not exist.\")"
   ]
  },
  {
   "cell_type": "code",
   "execution_count": null,
   "metadata": {},
   "outputs": [],
   "source": []
  },
  {
   "cell_type": "code",
   "execution_count": null,
   "metadata": {},
   "outputs": [
    {
     "name": "stdout",
     "output_type": "stream",
     "text": [
      "{\"error\": null, \"data\": {\"video_id\": \"057c38c37b8a4efda0027ab3940e1bda\"}}\n"
     ]
    }
   ],
   "source": [
    "url = \"https://api.heygen.com/v2/video/generate\"\n",
    "\n",
    "payload = {\n",
    "    \"caption\": False,  # Caption, maybe the subtile\n",
    "    \"title\": \"1\",  # Need to change , match the index of video\n",
    "    \"callback_id\": \"string\",\n",
    "    \"dimension\": {\n",
    "        \"width\": 1024,  # Fix\n",
    "        \"height\": 720  # fix\n",
    "    },\n",
    "    \"video_inputs\": [      # up to 50, don't know whether it is video setting or many video at a time\n",
    "        {\n",
    "            \"character\": {   # need to change to match  the avatar create\n",
    "                \"type\": \"talking_photo\",  # avatar (already) / talking_photo ( for custome photo)\n",
    "                \"talking_photo_id\": \"fb3e19a8f9014884a40ee3b0ebf69c04\",   # !!!!! extract\n",
    "                \"scale\": 1,\n",
    "                \"offset\": {\n",
    "                    \"x\": 0,\n",
    "                    \"y\": 0\n",
    "                }\n",
    "            },\n",
    "            \"voice\": {\n",
    "                \"type\": \"text\",\n",
    "                \"voice_id\": \"c6fb81520dcd42e0a02be231046a8639\", #str\n",
    "                \"input_text\": \"Xin chào, tôi là Anh Hai Cà Mau\" #str\n",
    "            },   # voice id Fixx\n",
    "        }\n",
    "    ],\n",
    "    \"callback_url\": \"string\"\n",
    "}\n",
    "headers = {\n",
    "    \"accept\": \"application/json\",\n",
    "    \"content-type\": \"application/json\",\n",
    "    \"x-api-key\": \"NWQ1ZGJhYjY5MGY0NGNmZDk1OWU0ZWUxNDU3YzY2YzYtMTcyNjIxNTM4Mg==\"\n",
    "}\n",
    "\n",
    "response = requests.post(url, json=payload, headers=headers)\n",
    "\n",
    "print(response.text)\n",
    "\n"
   ]
  },
  {
   "cell_type": "code",
   "execution_count": 7,
   "metadata": {},
   "outputs": [
    {
     "data": {
      "text/plain": [
       "{'error': None, 'data': {'video_id': '057c38c37b8a4efda0027ab3940e1bda'}}"
      ]
     },
     "execution_count": 7,
     "metadata": {},
     "output_type": "execute_result"
    }
   ],
   "source": [
    "covert_to_json =  json.loads(response.text)\n",
    "covert_to_json"
   ]
  },
  {
   "cell_type": "code",
   "execution_count": 8,
   "metadata": {},
   "outputs": [
    {
     "data": {
      "text/plain": [
       "'057c38c37b8a4efda0027ab3940e1bda'"
      ]
     },
     "execution_count": 8,
     "metadata": {},
     "output_type": "execute_result"
    }
   ],
   "source": [
    "video_id = covert_to_json[\"data\"][\"video_id\"]\n",
    "video_id"
   ]
  },
  {
   "cell_type": "code",
   "execution_count": 31,
   "metadata": {},
   "outputs": [
    {
     "name": "stdout",
     "output_type": "stream",
     "text": [
      "https://files2.heygen.ai/aws_pacific/avatar_tmp/5d5dbab690f44cfd959e4ee1457c66c6/057c38c37b8a4efda0027ab3940e1bda.mp4?Expires=1734507076&Signature=U8nnTO4UwF2PjQzqXXHNks6tRZLa4wqfb5Zh5f8qrkcmeOezhXY~XXTLEC~Ni9in8pdmOxSTVWQprt9F12WWBPxsCHiJnb8N5TGaNqJS1orGeG2XWHlGWDJPRxti5HUBqp2ZS3HWg7R3aCx7Kp4hEeAL1GMxwYq9F1jvlrIfjA3OVakLaBiE5h4R~G23yUL3MC9p5V9FNm2OJ9v~2HcYmzK5O3vntGgOl-VzV~W7exz9jAvzZZklGMTde2zsb~hx-GHAjqN1Ro3JAEK4~a565miPgXVAgpjbCIO05y30f8A~urZWJvntH5lXqAJhJ-a5j4Lt9av-Zj8cRoKeRDLIcA__&Key-Pair-Id=K38HBHX5LX3X2H\n",
      "Video downloaded successfully!\n"
     ]
    }
   ],
   "source": [
    "url = f\"https://api.heygen.com/v1/video_status.get?video_id={video_id}\"\n",
    "\n",
    "success = 0\n",
    "time_count = 0\n",
    "\n",
    "while success ==0 and time_count <= 240: # if wait more than 4 minutes\n",
    "    \n",
    "    headers = {\n",
    "        \"accept\": \"application/json\",\n",
    "        \"x-api-key\": \"NWQ1ZGJhYjY5MGY0NGNmZDk1OWU0ZWUxNDU3YzY2YzYtMTcyNjIxNTM4Mg==\"\n",
    "    }\n",
    "\n",
    "    process_response = requests.get(url, headers=headers)\n",
    "\n",
    "    process_response_json = json.loads(process_response.text)\n",
    "\n",
    "    if process_response_json[\"message\"] == \"Success\":\n",
    "        success = 1\n",
    "        \n",
    "        video_url = process_response_json[\"data\"][\"video_url\"]\n",
    "        \n",
    "        print(video_url)\n",
    "        \n",
    "        output_folder = \"downloads/\"\n",
    "        output_file = \"1.mp4\" # change to the name we want\n",
    "\n",
    "        # Tạo thư mục nếu chưa tồn tại\n",
    "        import os\n",
    "        os.makedirs(output_folder, exist_ok=True)\n",
    "\n",
    "        # Tải video\n",
    "        response = requests.get(video_url, stream=True)\n",
    "        if response.status_code == 200:\n",
    "            with open(os.path.join(output_folder, output_file), \"wb\") as file:\n",
    "                for chunk in response.iter_content(chunk_size=1024):  # Tải từng chunk\n",
    "                    file.write(chunk)\n",
    "            print(\"Video downloaded successfully!\")\n",
    "        else:\n",
    "            print(\"Failed to download video. Status code:\", response.status_code)\n",
    "    else: \n",
    "        time.sleep(5)\n",
    "        time_count += 5\n",
    "        \n",
    "        \n",
    "        "
   ]
  },
  {
   "cell_type": "code",
   "execution_count": null,
   "metadata": {},
   "outputs": [],
   "source": []
  }
 ],
 "metadata": {
  "kernelspec": {
   "display_name": "Python 3",
   "language": "python",
   "name": "python3"
  },
  "language_info": {
   "codemirror_mode": {
    "name": "ipython",
    "version": 3
   },
   "file_extension": ".py",
   "mimetype": "text/x-python",
   "name": "python",
   "nbconvert_exporter": "python",
   "pygments_lexer": "ipython3",
   "version": "3.10.10"
  }
 },
 "nbformat": 4,
 "nbformat_minor": 2
}
