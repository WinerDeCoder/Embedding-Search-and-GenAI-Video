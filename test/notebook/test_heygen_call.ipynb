{
 "cells": [
  {
   "cell_type": "code",
   "execution_count": 1,
   "metadata": {},
   "outputs": [
    {
     "data": {
      "text/plain": [
       "True"
      ]
     },
     "execution_count": 1,
     "metadata": {},
     "output_type": "execute_result"
    }
   ],
   "source": [
    "import requests\n",
    "import time\n",
    "import os\n",
    "import shutil\n",
    "import subprocess\n",
    "import concurrent.futures\n",
    "import pandas as pd\n",
    "from dotenv import load_dotenv\n",
    "load_dotenv(\"../../.env\")"
   ]
  },
  {
   "cell_type": "code",
   "execution_count": 6,
   "metadata": {},
   "outputs": [],
   "source": [
    "# General Define\n",
    "heygen_api_key  = os.getenv(\"HEYGEN_API_KEY\")\n",
    "headers         = {\"Accept\": \"application/json\", \"X-API-KEY\": heygen_api_key}\n",
    "template_id     = os.getenv(\"TEMPLATE_ID\")\n",
    "\n",
    "generate_url    = f\"https://api.heygen.com/v2/template/{template_id}/generate\""
   ]
  },
  {
   "cell_type": "code",
   "execution_count": 3,
   "metadata": {},
   "outputs": [],
   "source": [
    "#Payload\n",
    "def payload_setting(title, script):\n",
    "    \n",
    "    # payload = {\n",
    "    #     \"test\": True,\n",
    "    #     \"caption\": False,\n",
    "    #     \"title\": title,\n",
    "    #     \"dimension\": {\n",
    "    #             \"width\": 1920,  # Fix\n",
    "    #             \"height\": 1080  # fix\n",
    "    #         },\n",
    "    #     \"variables\": {\n",
    "    #         \"script\": {\n",
    "    #             \"name\": \"script\",\n",
    "    #             \"type\": \"text\",\n",
    "    #             \"properties\": {\"content\": script},\n",
    "    #         }\n",
    "    #     },\n",
    "    # }\n",
    "    \n",
    "    payload = {\n",
    "        \"caption\": False,  # Caption, maybe the subtile\n",
    "        \"title\": title,  # Need to change , match the index of video\n",
    "        \"callback_id\": \"string\",\n",
    "        \"dimension\": {\n",
    "            \"width\": 1024,  # Fix\n",
    "            \"height\": 720  # fix\n",
    "        },\n",
    "        \"video_inputs\": [      # up to 50, don't know whether it is video setting or many video at a time\n",
    "            {\n",
    "                \"character\": {\n",
    "                    \"type\": \"avatar\",\n",
    "                    \"avatar_id\": \"Angela-inTshirt-20220820\",\n",
    "                    \"avatar_style\": \"normal\"\n",
    "                },\n",
    "                \"voice\": {\n",
    "                    \"type\": \"text\",\n",
    "                    \"voice_id\": \"c6fb81520dcd42e0a02be231046a8639\", #str\n",
    "                    \"input_text\": script #str\n",
    "                },   # voice id Fixx\n",
    "            }\n",
    "        ],\n",
    "        \"callback_url\": \"string\"\n",
    "    }\n",
    "    \n",
    "    return payload"
   ]
  },
  {
   "cell_type": "code",
   "execution_count": 7,
   "metadata": {},
   "outputs": [
    {
     "name": "stdout",
     "output_type": "stream",
     "text": [
      "video_id: bcc0623798634f1d919660636bbd7ba4\n"
     ]
    }
   ],
   "source": [
    "payload = payload_setting(\"1\", \"this is on the fly\")\n",
    "\n",
    "headers[\"Content-Type\"] = \"application/json\"\n",
    "generate_url = \"https://api.heygen.com/v2/video/generate\"\n",
    "response = requests.post(generate_url, headers=headers, json=payload)\n",
    "if not response.json()[\"data\"]:\n",
    "    print(response)\n",
    "    print(response.json()[\"error\"])\n",
    "    \n",
    "    \n",
    "\n",
    "video_id = response.json()[\"data\"][\"video_id\"]\n",
    "print(\"video_id:\", video_id)"
   ]
  },
  {
   "cell_type": "code",
   "execution_count": 8,
   "metadata": {},
   "outputs": [
    {
     "name": "stdout",
     "output_type": "stream",
     "text": [
      "video_id: 37cfa8feb8d645fda8446865e4b30742\n"
     ]
    }
   ],
   "source": [
    "payload = payload_setting(\"2\", \"this is on the fly\")\n",
    "\n",
    "headers[\"Content-Type\"] = \"application/json\"\n",
    "generate_url = \"https://api.heygen.com/v2/video/generate\"\n",
    "response = requests.post(generate_url, headers=headers, json=payload)\n",
    "if not response.json()[\"data\"]:\n",
    "    print(response)\n",
    "    print(response.json()[\"error\"])\n",
    "    \n",
    "    \n",
    "\n",
    "video_id = response.json()[\"data\"][\"video_id\"]\n",
    "print(\"video_id:\", video_id)"
   ]
  },
  {
   "cell_type": "code",
   "execution_count": 16,
   "metadata": {},
   "outputs": [
    {
     "name": "stdout",
     "output_type": "stream",
     "text": [
      "video_id: ba1c05fe65ed4e0db5530539685fb43e\n"
     ]
    }
   ],
   "source": [
    "payload = payload_setting(\"10\", \"this is on the fly\")\n",
    "\n",
    "headers[\"Content-Type\"] = \"application/json\"\n",
    "generate_url = \"https://api.heygen.com/v2/video/generate\"\n",
    "response = requests.post(generate_url, headers=headers, json=payload)\n",
    "if not response.json()[\"data\"]:\n",
    "    print(response)\n",
    "    print(response.json()[\"error\"])\n",
    "    \n",
    "    \n",
    "\n",
    "video_id = response.json()[\"data\"][\"video_id\"]\n",
    "print(\"video_id:\", video_id)"
   ]
  },
  {
   "cell_type": "code",
   "execution_count": 17,
   "metadata": {},
   "outputs": [
    {
     "name": "stdout",
     "output_type": "stream",
     "text": [
      "ccc\n",
      "ccc\n",
      "ccc\n",
      "ccc\n",
      "ccc\n",
      "ccc\n",
      "ccc\n",
      "ccc\n",
      "ccc\n",
      "ccc\n",
      "30.022815465927124\n"
     ]
    }
   ],
   "source": [
    "import time\n",
    "\n",
    "start_time = time.time()\n",
    "for i in range(10):\n",
    "    print(\"ccc\")\n",
    "    time.sleep(3)\n",
    "    \n",
    "print(time.time() - start_time )"
   ]
  },
  {
   "cell_type": "code",
   "execution_count": 29,
   "metadata": {},
   "outputs": [],
   "source": [
    "def video_generator(index, title, script):\n",
    "    \n",
    "    payload = payload_setting(title, script)\n",
    "    \n",
    "    headers[\"Content-Type\"] = \"application/json\"\n",
    "    response = requests.post(generate_url, headers=headers, json=payload)\n",
    "    if not response.json()[\"data\"]:\n",
    "        print(response)\n",
    "        print(response.json()[\"error\"])\n",
    "        \n",
    "        return index, title, \"error\", \"\"\n",
    "        \n",
    "\n",
    "    video_id = response.json()[\"data\"][\"video_id\"]\n",
    "    print(\"video_id:\", video_id)\n",
    "    \n",
    "    \n",
    "    # Check Video Generation Status\n",
    "    video_status_url = f\"https://api.heygen.com/v1/video_status.get?video_id={video_id}\"\n",
    "    while True:\n",
    "        response = requests.get(video_status_url, headers=headers)\n",
    "        status = response.json()[\"data\"][\"status\"]\n",
    "\n",
    "        if status == \"completed\":\n",
    "            video_url = response.json()[\"data\"][\"video_url\"]\n",
    "            thumbnail_url = response.json()[\"data\"][\"thumbnail_url\"]\n",
    "            print(\n",
    "                f\"Video generation completed! \\nVideo URL: {video_url} \\nThumbnail URL: {thumbnail_url}\"\n",
    "            )\n",
    "\n",
    "            # Save the video to a file\n",
    "            video_filename = f\"../../data/videos/{title}.mp4\"\n",
    "            with open(video_filename, \"wb\") as video_file:\n",
    "                video_content = requests.get(video_url).content\n",
    "                video_file.write(video_content)\n",
    "                \n",
    "            return index, title, status, video_url\n",
    "\n",
    "        elif status == \"processing\" or status == \"pending\":\n",
    "            print(\"Video is still processing. Checking status...\")\n",
    "            time.sleep(5)  # Sleep for 5 seconds before checking again\n",
    "        elif status == \"failed\":\n",
    "            error = response.json()[\"data\"][\"error\"]\n",
    "            print(f\"Video generation failed. '{error}'\")\n",
    "            \n",
    "            return index, title, status, \"\"\n",
    "            \n",
    "\n",
    "    \n",
    "    "
   ]
  },
  {
   "cell_type": "code",
   "execution_count": 30,
   "metadata": {},
   "outputs": [],
   "source": [
    "qa_df = pd.read_excel(\"../../data/question_answer/QA_heygen.xlsx\")"
   ]
  },
  {
   "cell_type": "code",
   "execution_count": 31,
   "metadata": {},
   "outputs": [],
   "source": [
    "qa_df[\"video_id\"]       = \"\"\n",
    "qa_df[\"video_id\"]       = qa_df[\"video_id\"].astype(str)\n",
    "\n",
    "qa_df[\"video_status\"]   = \"\"\n",
    "qa_df[\"video_status\"]   = qa_df[\"video_status\"].astype(str)\n",
    "\n",
    "qa_df[\"video_url\"]      = \"\"\n",
    "qa_df[\"video_url\"]      = qa_df[\"video_url\"].astype(str)\n",
    "\n",
    "qa_df.to_excel(\"../../data/question_answer/QA_heygen_init_result.xlsx\", index=False)\n"
   ]
  },
  {
   "cell_type": "code",
   "execution_count": 32,
   "metadata": {},
   "outputs": [
    {
     "name": "stdout",
     "output_type": "stream",
     "text": [
      "video_id: 8734f55dec194c239bc0522a979a4ce7\n",
      "video_id: 6aee45ae38c845abb73718beab4476a4\n",
      "Video is still processing. Checking status...\n",
      "Video generation failed. '{'code': 401029, 'detail': 'Please subscribe to higher plan to generate higher resolution videos', 'message': 'Resolution not allowed'}'\n",
      "Video generation failed. '{'code': 401029, 'detail': 'Please subscribe to higher plan to generate higher resolution videos', 'message': 'Resolution not allowed'}'\n"
     ]
    }
   ],
   "source": [
    "\n",
    "\n",
    "\n",
    "# Run in parallel with ThreadPoolExecutor\n",
    "with concurrent.futures.ThreadPoolExecutor(max_workers=2) as executor:  # Adjust workers as needed\n",
    "    for id, row in qa_df.iterrows():\n",
    "        \n",
    "        title   = row[\"no\"]\n",
    "        script  = row[\"answer\"]\n",
    "        \n",
    "        futures = {executor.submit(video_generator, id, title, script)}\n",
    "        \n",
    "    for future in concurrent.futures.as_completed(futures):\n",
    "        idx, video_id, video_status, video_url = future.result()\n",
    "\n",
    "        qa_df.at[idx, \"video_id\"] = video_id\n",
    "        qa_df.at[idx, \"video_status\"] = video_status\n",
    "        qa_df.at[idx, \"video_url\"] = video_url\n",
    "\n",
    "# Save the updated DataFrame to a new Excel file\n",
    "qa_df.to_excel(\"../../data/question_answer/QA_heygen_final_result.xlsx\", index=False)"
   ]
  },
  {
   "cell_type": "code",
   "execution_count": null,
   "metadata": {},
   "outputs": [],
   "source": []
  },
  {
   "cell_type": "code",
   "execution_count": 4,
   "metadata": {},
   "outputs": [
    {
     "name": "stdout",
     "output_type": "stream",
     "text": [
      "Status Code: 200\n",
      "Response JSON: {'video_url': 'https://files2.heygen.ai/aws_pacific/avatar_tmp/f45bd8b98c644eecad322ef3225c78bf/af9e0aafbed646a88eb1d5d78b4df7a9.mp4?Expires=1741763602&Signature=jkc47pKKP3pVGD8ZH2owG5S-iWCcRe6LpSOZQB5kkArnqEG41-KlWerDMc7PeORftIoGovJbH0Xdv7o6s3qF-Xxp5aWNNVm~nrlrXH6PhQU2NIByZhA1QPnlIqISb9aFpWZubT2oux2BiXtmtAJBgU8wtINpo-YEg5mjp9-tdfVMrTIEdecLRISMWaZZ09eTy9-Q7kQgWPsHjhBYBj~c6XkMy8q2YZ8afR-Cl95zlKNDrBSWcmUvXiZZ3Ae5X629equJjjZG0jcdn~xZckIbZoF0E03QqOnCHM7pk1aKxW7oXFYKiUJKjnSuhSxx-cjt7zZthYp0wmraqkPOfwIY7w__&Key-Pair-Id=K38HBHX5LX3X2H'}\n"
     ]
    }
   ],
   "source": [
    "import requests\n",
    "\n",
    "url = \"http://172.17.16.10:8006/generate_video\"\n",
    "\n",
    "data = {\n",
    "    \"no\": \"10203838\",\n",
    "    \"question\": \"What is FastAPI?\",\n",
    "    \"answer\": \"FastAPI is a modern\"\n",
    "}\n",
    "\n",
    "response = requests.post(url, json=data)\n",
    "\n",
    "print(\"Status Code:\", response.status_code)\n",
    "print(\"Response JSON:\", response.json())"
   ]
  }
 ],
 "metadata": {
  "kernelspec": {
   "display_name": "py310",
   "language": "python",
   "name": "python3"
  },
  "language_info": {
   "codemirror_mode": {
    "name": "ipython",
    "version": 3
   },
   "file_extension": ".py",
   "mimetype": "text/x-python",
   "name": "python",
   "nbconvert_exporter": "python",
   "pygments_lexer": "ipython3",
   "version": "3.10.16"
  }
 },
 "nbformat": 4,
 "nbformat_minor": 2
}
