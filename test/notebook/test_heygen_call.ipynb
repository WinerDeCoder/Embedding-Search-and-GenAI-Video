{
 "cells": [
  {
   "cell_type": "code",
   "execution_count": 26,
   "metadata": {},
   "outputs": [
    {
     "data": {
      "text/plain": [
       "True"
      ]
     },
     "execution_count": 26,
     "metadata": {},
     "output_type": "execute_result"
    }
   ],
   "source": [
    "import requests\n",
    "import time\n",
    "import os\n",
    "import shutil\n",
    "import subprocess\n",
    "import concurrent.futures\n",
    "import pandas as pd\n",
    "from dotenv import load_dotenv\n",
    "load_dotenv(\"../../.env\")"
   ]
  },
  {
   "cell_type": "code",
   "execution_count": 27,
   "metadata": {},
   "outputs": [],
   "source": [
    "# General Define\n",
    "heygen_api_key  = os.getenv(\"HEYGEN_API_KEY\")\n",
    "headers         = {\"Accept\": \"application/json\", \"X-API-KEY\": heygen_api_key}\n",
    "template_id     = os.getenv(\"TEMPLATE_ID\")\n",
    "\n",
    "generate_url    = f\"https://api.heygen.com/v2/template/{template_id}/generate\""
   ]
  },
  {
   "cell_type": "code",
   "execution_count": 28,
   "metadata": {},
   "outputs": [],
   "source": [
    "#Payload\n",
    "def payload_setting(title, script):\n",
    "    \n",
    "    payload = {\n",
    "        \"test\": True,\n",
    "        \"caption\": False,\n",
    "        \"title\": title,\n",
    "        \"dimension\": {\n",
    "                \"width\": 1920,  # Fix\n",
    "                \"height\": 1080  # fix\n",
    "            },\n",
    "        \"variables\": {\n",
    "            \"script\": {\n",
    "                \"name\": \"script\",\n",
    "                \"type\": \"text\",\n",
    "                \"properties\": {\"content\": script},\n",
    "            }\n",
    "        },\n",
    "    }\n",
    "    \n",
    "    return payload"
   ]
  },
  {
   "cell_type": "code",
   "execution_count": 29,
   "metadata": {},
   "outputs": [],
   "source": [
    "def video_generator(index, title, script):\n",
    "    \n",
    "    payload = payload_setting(title, script)\n",
    "    \n",
    "    headers[\"Content-Type\"] = \"application/json\"\n",
    "    response = requests.post(generate_url, headers=headers, json=payload)\n",
    "    if not response.json()[\"data\"]:\n",
    "        print(response)\n",
    "        print(response.json()[\"error\"])\n",
    "        \n",
    "        return index, title, \"error\", \"\"\n",
    "        \n",
    "\n",
    "    video_id = response.json()[\"data\"][\"video_id\"]\n",
    "    print(\"video_id:\", video_id)\n",
    "    \n",
    "    \n",
    "    # Check Video Generation Status\n",
    "    video_status_url = f\"https://api.heygen.com/v1/video_status.get?video_id={video_id}\"\n",
    "    while True:\n",
    "        response = requests.get(video_status_url, headers=headers)\n",
    "        status = response.json()[\"data\"][\"status\"]\n",
    "\n",
    "        if status == \"completed\":\n",
    "            video_url = response.json()[\"data\"][\"video_url\"]\n",
    "            thumbnail_url = response.json()[\"data\"][\"thumbnail_url\"]\n",
    "            print(\n",
    "                f\"Video generation completed! \\nVideo URL: {video_url} \\nThumbnail URL: {thumbnail_url}\"\n",
    "            )\n",
    "\n",
    "            # Save the video to a file\n",
    "            video_filename = f\"../../data/videos/{title}.mp4\"\n",
    "            with open(video_filename, \"wb\") as video_file:\n",
    "                video_content = requests.get(video_url).content\n",
    "                video_file.write(video_content)\n",
    "                \n",
    "            return index, title, status, video_url\n",
    "\n",
    "        elif status == \"processing\" or status == \"pending\":\n",
    "            print(\"Video is still processing. Checking status...\")\n",
    "            time.sleep(5)  # Sleep for 5 seconds before checking again\n",
    "        elif status == \"failed\":\n",
    "            error = response.json()[\"data\"][\"error\"]\n",
    "            print(f\"Video generation failed. '{error}'\")\n",
    "            \n",
    "            return index, title, status, \"\"\n",
    "            \n",
    "\n",
    "    \n",
    "    "
   ]
  },
  {
   "cell_type": "code",
   "execution_count": 30,
   "metadata": {},
   "outputs": [],
   "source": [
    "qa_df = pd.read_excel(\"../../data/question_answer/QA_heygen.xlsx\")"
   ]
  },
  {
   "cell_type": "code",
   "execution_count": 31,
   "metadata": {},
   "outputs": [],
   "source": [
    "qa_df[\"video_id\"]       = \"\"\n",
    "qa_df[\"video_id\"]       = qa_df[\"video_id\"].astype(str)\n",
    "\n",
    "qa_df[\"video_status\"]   = \"\"\n",
    "qa_df[\"video_status\"]   = qa_df[\"video_status\"].astype(str)\n",
    "\n",
    "qa_df[\"video_url\"]      = \"\"\n",
    "qa_df[\"video_url\"]      = qa_df[\"video_url\"].astype(str)\n",
    "\n",
    "qa_df.to_excel(\"../../data/question_answer/QA_heygen_init_result.xlsx\", index=False)\n"
   ]
  },
  {
   "cell_type": "code",
   "execution_count": 32,
   "metadata": {},
   "outputs": [
    {
     "name": "stdout",
     "output_type": "stream",
     "text": [
      "video_id: 8734f55dec194c239bc0522a979a4ce7\n",
      "video_id: 6aee45ae38c845abb73718beab4476a4\n",
      "Video is still processing. Checking status...\n",
      "Video generation failed. '{'code': 401029, 'detail': 'Please subscribe to higher plan to generate higher resolution videos', 'message': 'Resolution not allowed'}'\n",
      "Video generation failed. '{'code': 401029, 'detail': 'Please subscribe to higher plan to generate higher resolution videos', 'message': 'Resolution not allowed'}'\n"
     ]
    }
   ],
   "source": [
    "\n",
    "\n",
    "\n",
    "# Run in parallel with ThreadPoolExecutor\n",
    "with concurrent.futures.ThreadPoolExecutor(max_workers=2) as executor:  # Adjust workers as needed\n",
    "    for id, row in qa_df.iterrows():\n",
    "        \n",
    "        title   = row[\"no\"]\n",
    "        script  = row[\"answer\"]\n",
    "        \n",
    "        futures = {executor.submit(video_generator, id, title, script)}\n",
    "        \n",
    "    for future in concurrent.futures.as_completed(futures):\n",
    "        idx, video_id, video_status, video_url = future.result()\n",
    "\n",
    "        qa_df.at[idx, \"video_id\"] = video_id\n",
    "        qa_df.at[idx, \"video_status\"] = video_status\n",
    "        qa_df.at[idx, \"video_url\"] = video_url\n",
    "\n",
    "# Save the updated DataFrame to a new Excel file\n",
    "qa_df.to_excel(\"../../data/question_answer/QA_heygen_final_result.xlsx\", index=False)"
   ]
  }
 ],
 "metadata": {
  "kernelspec": {
   "display_name": "Python 3",
   "language": "python",
   "name": "python3"
  },
  "language_info": {
   "codemirror_mode": {
    "name": "ipython",
    "version": 3
   },
   "file_extension": ".py",
   "mimetype": "text/x-python",
   "name": "python",
   "nbconvert_exporter": "python",
   "pygments_lexer": "ipython3",
   "version": "3.10.11"
  }
 },
 "nbformat": 4,
 "nbformat_minor": 2
}
