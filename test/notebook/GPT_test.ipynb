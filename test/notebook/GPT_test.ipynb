{
 "cells": [
  {
   "cell_type": "code",
   "execution_count": 3,
   "metadata": {},
   "outputs": [
    {
     "name": "stdout",
     "output_type": "stream",
     "text": [
      "{'question_id': '-1', 'answer': 'Xin lỗi bà con, Đạm Cà Mau hiện tại chưa thể trả lời câu hỏi này, kính mong bà con hãy hỏi câu hỏi khác.'}\n"
     ]
    }
   ],
   "source": [
    "import requests\n",
    "import base64\n",
    "\n",
    "# Read an audio file and encode it as base64\n",
    "with open(\"/home/phucnguyen/code/project_workspace/trustify/ahcm/test/data/audio/alloy.wav\", \"rb\") as audio_file:\n",
    "    base64_audio = base64.b64encode(audio_file.read()).decode(\"utf-8\")\n",
    "\n",
    "# API URL (Change this to match your actual FastAPI server)\n",
    "API_URL = \"http://172.17.16.10:8009//api/video-search\"\n",
    "\n",
    "# JSON request body\n",
    "payload = {\n",
    "    \"text\": \"\",  # Leave text empty\n",
    "    \"audio\": base64_audio  # Send encoded audio\n",
    "}\n",
    "\n",
    "# Send the request\n",
    "response = requests.post(API_URL, json=payload)\n",
    "\n",
    "# Print the response\n",
    "print(response.json())\n"
   ]
  },
  {
   "cell_type": "code",
   "execution_count": null,
   "metadata": {},
   "outputs": [],
   "source": []
  },
  {
   "cell_type": "code",
   "execution_count": null,
   "metadata": {},
   "outputs": [],
   "source": [
    "try:\n",
    "    try:\n",
    "        a\n",
    "    except:\n",
    "        b\n",
    "        \n",
    "    c\n",
    "    \n",
    "except:\n",
    "    d\n",
    "    \n",
    "finally:\n",
    "    e"
   ]
  }
 ],
 "metadata": {
  "kernelspec": {
   "display_name": "py310",
   "language": "python",
   "name": "python3"
  },
  "language_info": {
   "codemirror_mode": {
    "name": "ipython",
    "version": 3
   },
   "file_extension": ".py",
   "mimetype": "text/x-python",
   "name": "python",
   "nbconvert_exporter": "python",
   "pygments_lexer": "ipython3",
   "version": "3.10.16"
  }
 },
 "nbformat": 4,
 "nbformat_minor": 2
}
